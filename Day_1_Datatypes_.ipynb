{
  "cells": [
    {
      "cell_type": "markdown",
      "metadata": {
        "id": "view-in-github",
        "colab_type": "text"
      },
      "source": [
        "<a href=\"https://colab.research.google.com/github/varun2388/python_data_types/blob/main/Day_1_Datatypes_.ipynb\" target=\"_parent\"><img src=\"https://colab.research.google.com/assets/colab-badge.svg\" alt=\"Open In Colab\"/></a>"
      ]
    },
    {
      "cell_type": "markdown",
      "id": "dd3a7066",
      "metadata": {
        "id": "dd3a7066"
      },
      "source": [
        "# Jupyter Shortcuts\n",
        "\n",
        "+ esc + b - Add a new cell below the current cell\n",
        "+ esc + a - Add a new cell above the current cell\n",
        "+ esc + m - Convert a cell to Markdown\n",
        "+ esc + y - Convert a cell to code cell\n",
        "+ esc + x - Delete the current cell"
      ]
    },
    {
      "cell_type": "markdown",
      "id": "0235e281",
      "metadata": {
        "id": "0235e281"
      },
      "source": [
        "## Datatype"
      ]
    },
    {
      "cell_type": "code",
      "execution_count": 1,
      "id": "f25ba604",
      "metadata": {
        "id": "f25ba604"
      },
      "outputs": [],
      "source": [
        "# Integer\n",
        "x = 10"
      ]
    },
    {
      "cell_type": "code",
      "execution_count": null,
      "id": "c7755fa1",
      "metadata": {
        "id": "c7755fa1",
        "outputId": "fa59b799-37d9-4907-de3c-9b421b2e5541"
      },
      "outputs": [
        {
          "name": "stdout",
          "output_type": "stream",
          "text": [
            "10\n"
          ]
        }
      ],
      "source": [
        "print(x)"
      ]
    },
    {
      "cell_type": "code",
      "execution_count": null,
      "id": "01233f1d",
      "metadata": {
        "id": "01233f1d",
        "outputId": "c8f93321-2a10-424b-c449-ded733f08d9b"
      },
      "outputs": [
        {
          "data": {
            "text/plain": [
              "int"
            ]
          },
          "execution_count": 6,
          "metadata": {},
          "output_type": "execute_result"
        }
      ],
      "source": [
        "type(x)"
      ]
    },
    {
      "cell_type": "code",
      "execution_count": null,
      "id": "448de0ba",
      "metadata": {
        "id": "448de0ba"
      },
      "outputs": [],
      "source": [
        "# Float\n",
        "y = 9.08"
      ]
    },
    {
      "cell_type": "code",
      "execution_count": null,
      "id": "c2d7e0d4",
      "metadata": {
        "id": "c2d7e0d4",
        "outputId": "939971d8-faf9-4f37-aeb5-f9dc0e23604f"
      },
      "outputs": [
        {
          "data": {
            "text/plain": [
              "9.08"
            ]
          },
          "execution_count": 12,
          "metadata": {},
          "output_type": "execute_result"
        }
      ],
      "source": [
        "y"
      ]
    },
    {
      "cell_type": "code",
      "execution_count": null,
      "id": "77263fd8",
      "metadata": {
        "id": "77263fd8",
        "outputId": "17240651-1659-47d7-fa43-79d1b7c115fa"
      },
      "outputs": [
        {
          "data": {
            "text/plain": [
              "float"
            ]
          },
          "execution_count": 8,
          "metadata": {},
          "output_type": "execute_result"
        }
      ],
      "source": [
        "type(y)"
      ]
    },
    {
      "cell_type": "code",
      "execution_count": null,
      "id": "a4273c2a",
      "metadata": {
        "id": "a4273c2a"
      },
      "outputs": [],
      "source": [
        "# Boolean\n",
        "z = True"
      ]
    },
    {
      "cell_type": "code",
      "execution_count": null,
      "id": "a76b77e9",
      "metadata": {
        "id": "a76b77e9",
        "outputId": "d14c1ed4-89a2-44fe-eacd-0c481031bdd1"
      },
      "outputs": [
        {
          "name": "stdout",
          "output_type": "stream",
          "text": [
            "True\n"
          ]
        }
      ],
      "source": [
        "print(z)"
      ]
    },
    {
      "cell_type": "code",
      "execution_count": null,
      "id": "fb194ab5",
      "metadata": {
        "id": "fb194ab5",
        "outputId": "9cfc038a-4634-433d-c49d-cdafdc4fb4b0"
      },
      "outputs": [
        {
          "data": {
            "text/plain": [
              "bool"
            ]
          },
          "execution_count": 10,
          "metadata": {},
          "output_type": "execute_result"
        }
      ],
      "source": [
        "type(z)"
      ]
    },
    {
      "cell_type": "markdown",
      "id": "40210b3d",
      "metadata": {
        "id": "40210b3d"
      },
      "source": [
        "### Arithmetic Operation"
      ]
    },
    {
      "cell_type": "code",
      "execution_count": null,
      "id": "9deb8dd3",
      "metadata": {
        "id": "9deb8dd3"
      },
      "outputs": [],
      "source": [
        "x = 10\n",
        "y = 3"
      ]
    },
    {
      "cell_type": "code",
      "execution_count": null,
      "id": "9fe747f0",
      "metadata": {
        "id": "9fe747f0",
        "outputId": "a211a2f6-03e1-4dac-8753-5019953710ca"
      },
      "outputs": [
        {
          "data": {
            "text/plain": [
              "13"
            ]
          },
          "execution_count": 2,
          "metadata": {},
          "output_type": "execute_result"
        }
      ],
      "source": [
        "# Addition\n",
        "x + y"
      ]
    },
    {
      "cell_type": "code",
      "execution_count": null,
      "id": "c8d5883d",
      "metadata": {
        "id": "c8d5883d",
        "outputId": "5b9fe357-874e-4c35-f873-1bfcb465df3c"
      },
      "outputs": [
        {
          "data": {
            "text/plain": [
              "7"
            ]
          },
          "execution_count": 3,
          "metadata": {},
          "output_type": "execute_result"
        }
      ],
      "source": [
        "# Subtraction\n",
        "x - y"
      ]
    },
    {
      "cell_type": "code",
      "execution_count": null,
      "id": "67ce1657",
      "metadata": {
        "id": "67ce1657",
        "outputId": "f1ce1c97-0cc7-4d15-d794-752d26eab9f6"
      },
      "outputs": [
        {
          "data": {
            "text/plain": [
              "30"
            ]
          },
          "execution_count": 4,
          "metadata": {},
          "output_type": "execute_result"
        }
      ],
      "source": [
        "# Multiplication\n",
        "x * y"
      ]
    },
    {
      "cell_type": "code",
      "execution_count": null,
      "id": "8434fc74",
      "metadata": {
        "id": "8434fc74",
        "outputId": "c312cb59-80a8-4c0a-8294-8193d1b86f6b"
      },
      "outputs": [
        {
          "data": {
            "text/plain": [
              "3.3333333333333335"
            ]
          },
          "execution_count": 5,
          "metadata": {},
          "output_type": "execute_result"
        }
      ],
      "source": [
        "# Division\n",
        "x / y"
      ]
    },
    {
      "cell_type": "code",
      "execution_count": null,
      "id": "d58f7a10",
      "metadata": {
        "id": "d58f7a10",
        "outputId": "8bd68cd2-664d-491c-f55b-1a9165e04f00"
      },
      "outputs": [
        {
          "data": {
            "text/plain": [
              "1"
            ]
          },
          "execution_count": 6,
          "metadata": {},
          "output_type": "execute_result"
        }
      ],
      "source": [
        "# Modulo Division\n",
        "x % y"
      ]
    },
    {
      "cell_type": "code",
      "execution_count": null,
      "id": "612a9ec5",
      "metadata": {
        "id": "612a9ec5",
        "outputId": "fc556d3a-9919-489e-9010-65fbb0d590bb"
      },
      "outputs": [
        {
          "data": {
            "text/plain": [
              "3"
            ]
          },
          "execution_count": 7,
          "metadata": {},
          "output_type": "execute_result"
        }
      ],
      "source": [
        "# Floor Division\n",
        "x // y"
      ]
    },
    {
      "cell_type": "code",
      "execution_count": null,
      "id": "abb544d1",
      "metadata": {
        "id": "abb544d1",
        "outputId": "1567f790-23c3-4d4a-e4cc-395d47029713"
      },
      "outputs": [
        {
          "data": {
            "text/plain": [
              "-4"
            ]
          },
          "execution_count": 8,
          "metadata": {},
          "output_type": "execute_result"
        }
      ],
      "source": [
        "-x // y"
      ]
    },
    {
      "cell_type": "markdown",
      "id": "c64003d0",
      "metadata": {
        "id": "c64003d0"
      },
      "source": [
        "## Logical Operation"
      ]
    },
    {
      "cell_type": "code",
      "execution_count": null,
      "id": "4067de52",
      "metadata": {
        "id": "4067de52"
      },
      "outputs": [],
      "source": [
        "x = True\n",
        "y = False"
      ]
    },
    {
      "cell_type": "code",
      "execution_count": null,
      "id": "28fc2138",
      "metadata": {
        "id": "28fc2138",
        "outputId": "30264817-b278-4318-c1d3-ae06291a7253"
      },
      "outputs": [
        {
          "data": {
            "text/plain": [
              "True"
            ]
          },
          "execution_count": 10,
          "metadata": {},
          "output_type": "execute_result"
        }
      ],
      "source": [
        "x or y"
      ]
    },
    {
      "cell_type": "code",
      "execution_count": null,
      "id": "caa69634",
      "metadata": {
        "id": "caa69634",
        "outputId": "eb09a754-561a-4318-f0fd-f0025d3b8c3a"
      },
      "outputs": [
        {
          "data": {
            "text/plain": [
              "False"
            ]
          },
          "execution_count": 11,
          "metadata": {},
          "output_type": "execute_result"
        }
      ],
      "source": [
        "x and y"
      ]
    },
    {
      "cell_type": "code",
      "execution_count": null,
      "id": "1baf7751",
      "metadata": {
        "id": "1baf7751",
        "outputId": "74ed77d4-fb5d-4cd5-85d0-1deb04b584ed"
      },
      "outputs": [
        {
          "data": {
            "text/plain": [
              "False"
            ]
          },
          "execution_count": 12,
          "metadata": {},
          "output_type": "execute_result"
        }
      ],
      "source": [
        "not x"
      ]
    },
    {
      "cell_type": "code",
      "execution_count": null,
      "id": "1358ca36",
      "metadata": {
        "id": "1358ca36",
        "outputId": "20fdae6b-e2f7-4db8-9a8a-697fa81e3300"
      },
      "outputs": [
        {
          "data": {
            "text/plain": [
              "True"
            ]
          },
          "execution_count": 13,
          "metadata": {},
          "output_type": "execute_result"
        }
      ],
      "source": [
        "not y"
      ]
    },
    {
      "cell_type": "code",
      "execution_count": null,
      "id": "624fef21",
      "metadata": {
        "id": "624fef21"
      },
      "outputs": [],
      "source": [
        "x = 10\n",
        "y = 3"
      ]
    },
    {
      "cell_type": "code",
      "execution_count": null,
      "id": "c67ef602",
      "metadata": {
        "id": "c67ef602",
        "outputId": "bef6df95-2f2b-4bbe-c85e-ae8ae32496ea"
      },
      "outputs": [
        {
          "data": {
            "text/plain": [
              "True"
            ]
          },
          "execution_count": 15,
          "metadata": {},
          "output_type": "execute_result"
        }
      ],
      "source": [
        "x > y"
      ]
    },
    {
      "cell_type": "code",
      "execution_count": null,
      "id": "1739dd75",
      "metadata": {
        "id": "1739dd75",
        "outputId": "18cd265e-1c7c-4d00-93db-0bc4433746c2"
      },
      "outputs": [
        {
          "data": {
            "text/plain": [
              "True"
            ]
          },
          "execution_count": 16,
          "metadata": {},
          "output_type": "execute_result"
        }
      ],
      "source": [
        "y < x"
      ]
    },
    {
      "cell_type": "code",
      "execution_count": null,
      "id": "f381d5e9",
      "metadata": {
        "id": "f381d5e9",
        "outputId": "93a732da-3271-4f29-e0b7-af5604e35893"
      },
      "outputs": [
        {
          "data": {
            "text/plain": [
              "False"
            ]
          },
          "execution_count": 17,
          "metadata": {},
          "output_type": "execute_result"
        }
      ],
      "source": [
        "x == y"
      ]
    },
    {
      "cell_type": "code",
      "execution_count": null,
      "id": "3d894f57",
      "metadata": {
        "id": "3d894f57",
        "outputId": "6c22e1ad-7927-46d5-a33a-42356557e863"
      },
      "outputs": [
        {
          "data": {
            "text/plain": [
              "False"
            ]
          },
          "execution_count": 18,
          "metadata": {},
          "output_type": "execute_result"
        }
      ],
      "source": [
        "x > y and x == y"
      ]
    },
    {
      "cell_type": "markdown",
      "id": "daea0fcc",
      "metadata": {
        "id": "daea0fcc"
      },
      "source": [
        "## Sequence Types"
      ]
    },
    {
      "cell_type": "code",
      "execution_count": null,
      "id": "1ad49a38",
      "metadata": {
        "id": "1ad49a38"
      },
      "outputs": [],
      "source": [
        "# List\n",
        "lst = [56,77,82,35,90]"
      ]
    },
    {
      "cell_type": "code",
      "execution_count": null,
      "id": "5cb11267",
      "metadata": {
        "id": "5cb11267",
        "outputId": "5fa551b8-e9fe-4f39-912b-acc758796dc8"
      },
      "outputs": [
        {
          "data": {
            "text/plain": [
              "[56, 77, 82, 35, 90]"
            ]
          },
          "execution_count": 20,
          "metadata": {},
          "output_type": "execute_result"
        }
      ],
      "source": [
        "lst"
      ]
    },
    {
      "cell_type": "code",
      "execution_count": null,
      "id": "21b8998a",
      "metadata": {
        "id": "21b8998a",
        "outputId": "b7accd85-2f07-456a-c68c-5596b93bf4d0"
      },
      "outputs": [
        {
          "data": {
            "text/plain": [
              "list"
            ]
          },
          "execution_count": 21,
          "metadata": {},
          "output_type": "execute_result"
        }
      ],
      "source": [
        "type(lst)"
      ]
    },
    {
      "cell_type": "code",
      "execution_count": null,
      "id": "13cb1f96",
      "metadata": {
        "id": "13cb1f96"
      },
      "outputs": [],
      "source": [
        "# Tuple\n",
        "tup = (1,2,3,45,78)"
      ]
    },
    {
      "cell_type": "code",
      "execution_count": null,
      "id": "1c6c5f47",
      "metadata": {
        "id": "1c6c5f47",
        "outputId": "ac153a54-e186-4eb2-9cfb-4fa949b5a081"
      },
      "outputs": [
        {
          "data": {
            "text/plain": [
              "tuple"
            ]
          },
          "execution_count": 23,
          "metadata": {},
          "output_type": "execute_result"
        }
      ],
      "source": [
        "type(tup)"
      ]
    },
    {
      "cell_type": "code",
      "execution_count": null,
      "id": "a73697dd",
      "metadata": {
        "id": "a73697dd"
      },
      "outputs": [],
      "source": [
        "# String\n",
        "s1 = 'Python'"
      ]
    },
    {
      "cell_type": "code",
      "execution_count": null,
      "id": "896f6d6f",
      "metadata": {
        "id": "896f6d6f",
        "outputId": "d74c1feb-619c-4be4-eb42-bd6a3d9ccaf2"
      },
      "outputs": [
        {
          "data": {
            "text/plain": [
              "str"
            ]
          },
          "execution_count": 25,
          "metadata": {},
          "output_type": "execute_result"
        }
      ],
      "source": [
        "type(s1)"
      ]
    },
    {
      "cell_type": "code",
      "execution_count": null,
      "id": "b4bcc93c",
      "metadata": {
        "id": "b4bcc93c"
      },
      "outputs": [],
      "source": [
        "s2 ='''Apple'''"
      ]
    },
    {
      "cell_type": "code",
      "execution_count": null,
      "id": "ba02c398",
      "metadata": {
        "id": "ba02c398",
        "outputId": "5b3ad4a0-8840-4dec-c3fa-197d22e062dc"
      },
      "outputs": [
        {
          "data": {
            "text/plain": [
              "str"
            ]
          },
          "execution_count": 27,
          "metadata": {},
          "output_type": "execute_result"
        }
      ],
      "source": [
        "type(s2)"
      ]
    },
    {
      "cell_type": "markdown",
      "id": "8a9eabfd",
      "metadata": {
        "id": "8a9eabfd"
      },
      "source": [
        "## Positional Indexing"
      ]
    },
    {
      "cell_type": "code",
      "execution_count": null,
      "id": "b3f62a64",
      "metadata": {
        "id": "b3f62a64"
      },
      "outputs": [],
      "source": [
        "mark_lst = [45,66,79,80,52]"
      ]
    },
    {
      "cell_type": "code",
      "execution_count": null,
      "id": "174a4e61",
      "metadata": {
        "id": "174a4e61",
        "outputId": "e92c2a3c-c7bb-4f50-aaa6-47319c8ab7b7"
      },
      "outputs": [
        {
          "data": {
            "text/plain": [
              "79"
            ]
          },
          "execution_count": 29,
          "metadata": {},
          "output_type": "execute_result"
        }
      ],
      "source": [
        "mark_lst[2]"
      ]
    },
    {
      "cell_type": "code",
      "execution_count": null,
      "id": "e392dd2e",
      "metadata": {
        "id": "e392dd2e",
        "outputId": "b2ddc87c-8b53-45cd-a7b2-b143ced8484a"
      },
      "outputs": [
        {
          "data": {
            "text/plain": [
              "'l'"
            ]
          },
          "execution_count": 30,
          "metadata": {},
          "output_type": "execute_result"
        }
      ],
      "source": [
        "s2[3]"
      ]
    },
    {
      "cell_type": "code",
      "execution_count": null,
      "id": "46c83c68",
      "metadata": {
        "id": "46c83c68"
      },
      "outputs": [],
      "source": [
        "mixed_lst = [10,8.09,True,'Apple',[90,70,80],(1,2,3)]"
      ]
    },
    {
      "cell_type": "code",
      "execution_count": null,
      "id": "39df5195",
      "metadata": {
        "id": "39df5195",
        "outputId": "24edb609-5d06-4f44-8356-cbe90d79ee32"
      },
      "outputs": [
        {
          "data": {
            "text/plain": [
              "'Apple'"
            ]
          },
          "execution_count": 32,
          "metadata": {},
          "output_type": "execute_result"
        }
      ],
      "source": [
        "mixed_lst[3]"
      ]
    },
    {
      "cell_type": "code",
      "execution_count": null,
      "id": "f91159dc",
      "metadata": {
        "id": "f91159dc",
        "outputId": "30df5288-656d-47a9-9712-3e9de5776535"
      },
      "outputs": [
        {
          "data": {
            "text/plain": [
              "70"
            ]
          },
          "execution_count": 37,
          "metadata": {},
          "output_type": "execute_result"
        }
      ],
      "source": [
        "mixed_lst[4][1]"
      ]
    },
    {
      "cell_type": "markdown",
      "id": "4a40a8d6",
      "metadata": {
        "id": "4a40a8d6"
      },
      "source": [
        "### Slicing"
      ]
    },
    {
      "cell_type": "code",
      "execution_count": null,
      "id": "65959eef",
      "metadata": {
        "id": "65959eef"
      },
      "outputs": [],
      "source": [
        "mark_lst = [45,66,79,80,52,11,34,88,30,68,23,44,100,54]"
      ]
    },
    {
      "cell_type": "code",
      "execution_count": null,
      "id": "13d23b7f",
      "metadata": {
        "id": "13d23b7f",
        "outputId": "eb1df925-b7e6-48b1-a097-a666cf0c3bb7"
      },
      "outputs": [
        {
          "data": {
            "text/plain": [
              "[80, 52, 11, 34, 88, 30]"
            ]
          },
          "execution_count": 39,
          "metadata": {},
          "output_type": "execute_result"
        }
      ],
      "source": [
        "mark_lst[3:9]"
      ]
    },
    {
      "cell_type": "code",
      "execution_count": null,
      "id": "a2af6939",
      "metadata": {
        "id": "a2af6939",
        "outputId": "72b0124f-c6f0-4e2a-d2cc-3c27c80ad071"
      },
      "outputs": [
        {
          "data": {
            "text/plain": [
              "[45, 66, 79, 80, 52, 11, 34, 88, 30]"
            ]
          },
          "execution_count": 40,
          "metadata": {},
          "output_type": "execute_result"
        }
      ],
      "source": [
        "mark_lst[:9]"
      ]
    },
    {
      "cell_type": "code",
      "execution_count": null,
      "id": "5e673357",
      "metadata": {
        "id": "5e673357",
        "outputId": "5d8620a3-91ad-44eb-9d90-635965c18e8b"
      },
      "outputs": [
        {
          "data": {
            "text/plain": [
              "[88, 30, 68, 23, 44, 100, 54]"
            ]
          },
          "execution_count": 41,
          "metadata": {},
          "output_type": "execute_result"
        }
      ],
      "source": [
        "mark_lst[7:]"
      ]
    },
    {
      "cell_type": "code",
      "execution_count": null,
      "id": "8a7a3154",
      "metadata": {
        "id": "8a7a3154",
        "outputId": "35fee275-7bd4-4d5e-d189-1eee401b3538"
      },
      "outputs": [
        {
          "data": {
            "text/plain": [
              "[45, 66, 79, 80, 52, 11, 34, 88, 30, 68, 23, 44, 100, 54]"
            ]
          },
          "execution_count": 42,
          "metadata": {},
          "output_type": "execute_result"
        }
      ],
      "source": [
        "mark_lst[:]"
      ]
    },
    {
      "cell_type": "code",
      "execution_count": null,
      "id": "d7dd5b73",
      "metadata": {
        "id": "d7dd5b73",
        "outputId": "da3a40e7-22c4-48b2-e70e-77cb9ea52733"
      },
      "outputs": [
        {
          "data": {
            "text/plain": [
              "[45, 66, 79, 80, 52, 11, 34, 88, 30, 68, 23, 44, 100, 54]"
            ]
          },
          "execution_count": 43,
          "metadata": {},
          "output_type": "execute_result"
        }
      ],
      "source": [
        "mark_lst"
      ]
    },
    {
      "cell_type": "code",
      "execution_count": null,
      "id": "9f8233c5",
      "metadata": {
        "id": "9f8233c5"
      },
      "outputs": [],
      "source": [
        "s1 = 'I love python'"
      ]
    },
    {
      "cell_type": "code",
      "execution_count": null,
      "id": "8fb47193",
      "metadata": {
        "id": "8fb47193",
        "outputId": "e48b42bc-25b8-4747-9c01-3348ad1132d3"
      },
      "outputs": [
        {
          "data": {
            "text/plain": [
              "'love'"
            ]
          },
          "execution_count": 45,
          "metadata": {},
          "output_type": "execute_result"
        }
      ],
      "source": [
        "s1[2:6]"
      ]
    },
    {
      "cell_type": "code",
      "execution_count": null,
      "id": "31482ebb",
      "metadata": {
        "id": "31482ebb",
        "outputId": "78645f4e-606b-4e25-f8a2-6ffad3c1ca51"
      },
      "outputs": [
        {
          "data": {
            "text/plain": [
              "'python'"
            ]
          },
          "execution_count": 46,
          "metadata": {},
          "output_type": "execute_result"
        }
      ],
      "source": [
        "s1[7:]"
      ]
    },
    {
      "cell_type": "code",
      "execution_count": null,
      "id": "6b945499",
      "metadata": {
        "id": "6b945499",
        "outputId": "61dd6de0-d0b4-4855-887e-64990947ac0b"
      },
      "outputs": [
        {
          "data": {
            "text/plain": [
              "54"
            ]
          },
          "execution_count": 76,
          "metadata": {},
          "output_type": "execute_result"
        }
      ],
      "source": [
        "mark_lst[-1]"
      ]
    },
    {
      "cell_type": "code",
      "execution_count": null,
      "id": "867519e7",
      "metadata": {
        "id": "867519e7",
        "outputId": "96b908d2-4f96-418b-a3e2-af7d0ad44958"
      },
      "outputs": [
        {
          "data": {
            "text/plain": [
              "(44, 44)"
            ]
          },
          "execution_count": 78,
          "metadata": {},
          "output_type": "execute_result"
        }
      ],
      "source": [
        "mark_lst[11], mark_lst[-3]"
      ]
    },
    {
      "cell_type": "markdown",
      "id": "4585aba0",
      "metadata": {
        "id": "4585aba0"
      },
      "source": [
        "#### length of a sequence"
      ]
    },
    {
      "cell_type": "code",
      "execution_count": null,
      "id": "f9602beb",
      "metadata": {
        "id": "f9602beb",
        "outputId": "f95149a2-2847-44e4-c571-4a7ee283f054"
      },
      "outputs": [
        {
          "data": {
            "text/plain": [
              "14"
            ]
          },
          "execution_count": 47,
          "metadata": {},
          "output_type": "execute_result"
        }
      ],
      "source": [
        "len(mark_lst)"
      ]
    },
    {
      "cell_type": "code",
      "execution_count": null,
      "id": "bd0f0d40",
      "metadata": {
        "id": "bd0f0d40",
        "outputId": "6a576ec5-2a14-4e5d-c80a-2c965b03ad97"
      },
      "outputs": [
        {
          "data": {
            "text/plain": [
              "13"
            ]
          },
          "execution_count": 48,
          "metadata": {},
          "output_type": "execute_result"
        }
      ],
      "source": [
        "len(s1)"
      ]
    },
    {
      "cell_type": "code",
      "execution_count": null,
      "id": "52555f00",
      "metadata": {
        "id": "52555f00",
        "outputId": "64dcc020-8294-4ad9-f1f3-9d0f83519d2c"
      },
      "outputs": [
        {
          "data": {
            "text/plain": [
              "5"
            ]
          },
          "execution_count": 50,
          "metadata": {},
          "output_type": "execute_result"
        }
      ],
      "source": [
        "len(tup)"
      ]
    },
    {
      "cell_type": "markdown",
      "id": "2759b4ac",
      "metadata": {
        "id": "2759b4ac"
      },
      "source": [
        "### membership operation"
      ]
    },
    {
      "cell_type": "code",
      "execution_count": null,
      "id": "4e7d9186",
      "metadata": {
        "id": "4e7d9186",
        "outputId": "878beba7-452b-4bc6-9439-7678396425e1"
      },
      "outputs": [
        {
          "data": {
            "text/plain": [
              "[45, 66, 79, 80, 52, 11, 34, 88, 30, 68, 23, 44, 100, 54]"
            ]
          },
          "execution_count": 51,
          "metadata": {},
          "output_type": "execute_result"
        }
      ],
      "source": [
        "mark_lst"
      ]
    },
    {
      "cell_type": "code",
      "execution_count": null,
      "id": "180a026c",
      "metadata": {
        "id": "180a026c",
        "outputId": "776e447b-4630-408f-be99-9571f7686763"
      },
      "outputs": [
        {
          "data": {
            "text/plain": [
              "True"
            ]
          },
          "execution_count": 52,
          "metadata": {},
          "output_type": "execute_result"
        }
      ],
      "source": [
        "80 in mark_lst"
      ]
    },
    {
      "cell_type": "code",
      "execution_count": null,
      "id": "bdd71356",
      "metadata": {
        "id": "bdd71356",
        "outputId": "b41dc2f8-33b9-40ac-ed0f-f17b4692205b"
      },
      "outputs": [
        {
          "data": {
            "text/plain": [
              "(False, True)"
            ]
          },
          "execution_count": 58,
          "metadata": {},
          "output_type": "execute_result"
        }
      ],
      "source": [
        "111 in mark_lst, 111 not in mark_lst"
      ]
    },
    {
      "cell_type": "code",
      "execution_count": null,
      "id": "b5fce7e1",
      "metadata": {
        "id": "b5fce7e1",
        "outputId": "6a7b6195-fa4d-471d-ffdb-16c8e73f228e"
      },
      "outputs": [
        {
          "data": {
            "text/plain": [
              "True"
            ]
          },
          "execution_count": 54,
          "metadata": {},
          "output_type": "execute_result"
        }
      ],
      "source": [
        "'t' in s1"
      ]
    },
    {
      "cell_type": "code",
      "execution_count": null,
      "id": "fbfb7757",
      "metadata": {
        "id": "fbfb7757",
        "outputId": "2c550738-d5f9-4c4b-f215-33ff1f6854fe"
      },
      "outputs": [
        {
          "data": {
            "text/plain": [
              "False"
            ]
          },
          "execution_count": 55,
          "metadata": {},
          "output_type": "execute_result"
        }
      ],
      "source": [
        "'z' in s1"
      ]
    },
    {
      "cell_type": "code",
      "execution_count": null,
      "id": "2a95d557",
      "metadata": {
        "id": "2a95d557",
        "outputId": "3f40bf83-0853-4209-8aa3-70a6286c9b02"
      },
      "outputs": [
        {
          "data": {
            "text/plain": [
              "True"
            ]
          },
          "execution_count": 56,
          "metadata": {},
          "output_type": "execute_result"
        }
      ],
      "source": [
        "1 in tup"
      ]
    },
    {
      "cell_type": "code",
      "execution_count": null,
      "id": "3e4ead50",
      "metadata": {
        "id": "3e4ead50",
        "outputId": "3b23e607-fcca-4516-a379-0c7f4568c3de"
      },
      "outputs": [
        {
          "data": {
            "text/plain": [
              "False"
            ]
          },
          "execution_count": 57,
          "metadata": {},
          "output_type": "execute_result"
        }
      ],
      "source": [
        "100 in tup"
      ]
    },
    {
      "cell_type": "code",
      "execution_count": null,
      "id": "2f9e7115",
      "metadata": {
        "id": "2f9e7115"
      },
      "outputs": [],
      "source": [
        "mylst = [1,2,3]"
      ]
    },
    {
      "cell_type": "markdown",
      "id": "781fe6a9",
      "metadata": {
        "id": "781fe6a9"
      },
      "source": [
        "### Repetition"
      ]
    },
    {
      "cell_type": "code",
      "execution_count": null,
      "id": "ef395832",
      "metadata": {
        "id": "ef395832",
        "outputId": "368c7fb5-5ba1-4a06-aac5-35fda66b30d8"
      },
      "outputs": [
        {
          "data": {
            "text/plain": [
              "[1, 2, 3, 1, 2, 3, 1, 2, 3]"
            ]
          },
          "execution_count": 60,
          "metadata": {},
          "output_type": "execute_result"
        }
      ],
      "source": [
        "mylst * 3"
      ]
    },
    {
      "cell_type": "code",
      "execution_count": null,
      "id": "b86117bd",
      "metadata": {
        "id": "b86117bd"
      },
      "outputs": [],
      "source": [
        "s1 = \"Hello\""
      ]
    },
    {
      "cell_type": "code",
      "execution_count": null,
      "id": "8bdca25b",
      "metadata": {
        "id": "8bdca25b",
        "outputId": "2c62f090-49d7-404c-f944-92e40497de34"
      },
      "outputs": [
        {
          "data": {
            "text/plain": [
              "'HelloHelloHello'"
            ]
          },
          "execution_count": 62,
          "metadata": {},
          "output_type": "execute_result"
        }
      ],
      "source": [
        "s1 * 3"
      ]
    },
    {
      "cell_type": "markdown",
      "id": "bc598d4e",
      "metadata": {
        "id": "bc598d4e"
      },
      "source": [
        "### Concatenation"
      ]
    },
    {
      "cell_type": "code",
      "execution_count": null,
      "id": "b0127164",
      "metadata": {
        "id": "b0127164"
      },
      "outputs": [],
      "source": [
        "ls1 = [1,2,3]\n",
        "ls2 = [4,5,6]"
      ]
    },
    {
      "cell_type": "code",
      "execution_count": null,
      "id": "6ccd6507",
      "metadata": {
        "id": "6ccd6507",
        "outputId": "7c67d25a-18fc-4141-910c-566ea6fa418b"
      },
      "outputs": [
        {
          "data": {
            "text/plain": [
              "[1, 2, 3, 4, 5, 6]"
            ]
          },
          "execution_count": 64,
          "metadata": {},
          "output_type": "execute_result"
        }
      ],
      "source": [
        "ls1 + ls2"
      ]
    },
    {
      "cell_type": "code",
      "execution_count": null,
      "id": "eff66250",
      "metadata": {
        "id": "eff66250"
      },
      "outputs": [],
      "source": [
        "s2 = 'Hello'\n",
        "s3 = ' '\n",
        "s1 ='world'"
      ]
    },
    {
      "cell_type": "code",
      "execution_count": null,
      "id": "3c8a92ae",
      "metadata": {
        "id": "3c8a92ae",
        "outputId": "85e9bdb0-e254-4d95-aea8-aeedfaa5a1b2"
      },
      "outputs": [
        {
          "data": {
            "text/plain": [
              "'world Hello'"
            ]
          },
          "execution_count": 80,
          "metadata": {},
          "output_type": "execute_result"
        }
      ],
      "source": [
        "s1 + s3 + s2"
      ]
    },
    {
      "cell_type": "markdown",
      "id": "008fc31c",
      "metadata": {
        "id": "008fc31c"
      },
      "source": [
        "### max() and min()"
      ]
    },
    {
      "cell_type": "code",
      "execution_count": null,
      "id": "45f239cc",
      "metadata": {
        "id": "45f239cc",
        "outputId": "c6947633-8673-4462-a846-c0288d613298"
      },
      "outputs": [
        {
          "data": {
            "text/plain": [
              "[56, 77, 82, 35, 90]"
            ]
          },
          "execution_count": 67,
          "metadata": {},
          "output_type": "execute_result"
        }
      ],
      "source": [
        "lst"
      ]
    },
    {
      "cell_type": "code",
      "execution_count": null,
      "id": "722d6380",
      "metadata": {
        "id": "722d6380",
        "outputId": "1ba011e8-0e59-4bbd-f99a-ae63fe16bc72"
      },
      "outputs": [
        {
          "data": {
            "text/plain": [
              "90"
            ]
          },
          "execution_count": 68,
          "metadata": {},
          "output_type": "execute_result"
        }
      ],
      "source": [
        "max(lst)"
      ]
    },
    {
      "cell_type": "code",
      "execution_count": null,
      "id": "13add312",
      "metadata": {
        "id": "13add312",
        "outputId": "fea73da1-f6fa-4411-a996-ae9f4094c6c9"
      },
      "outputs": [
        {
          "data": {
            "text/plain": [
              "35"
            ]
          },
          "execution_count": 69,
          "metadata": {},
          "output_type": "execute_result"
        }
      ],
      "source": [
        "min(lst)"
      ]
    },
    {
      "cell_type": "code",
      "execution_count": null,
      "id": "c332d47b",
      "metadata": {
        "id": "c332d47b",
        "outputId": "90c531b6-2939-41f8-cdc8-c548cc028be4"
      },
      "outputs": [
        {
          "data": {
            "text/plain": [
              "'o'"
            ]
          },
          "execution_count": 70,
          "metadata": {},
          "output_type": "execute_result"
        }
      ],
      "source": [
        "max(s1)"
      ]
    },
    {
      "cell_type": "code",
      "execution_count": null,
      "id": "b116d19b",
      "metadata": {
        "id": "b116d19b",
        "outputId": "f4457170-26ce-4b47-b47e-05108e7c611c"
      },
      "outputs": [
        {
          "data": {
            "text/plain": [
              "'w'"
            ]
          },
          "execution_count": 71,
          "metadata": {},
          "output_type": "execute_result"
        }
      ],
      "source": [
        "max(s2)"
      ]
    },
    {
      "cell_type": "markdown",
      "id": "35e0109f",
      "metadata": {
        "id": "35e0109f"
      },
      "source": [
        "### List Specific Methods"
      ]
    },
    {
      "cell_type": "code",
      "execution_count": null,
      "id": "9fcc5e3a",
      "metadata": {
        "id": "9fcc5e3a",
        "outputId": "f55d84f4-3faa-467b-8a80-ca11fbcf90d8"
      },
      "outputs": [
        {
          "data": {
            "text/plain": [
              "['__add__',\n",
              " '__class__',\n",
              " '__contains__',\n",
              " '__delattr__',\n",
              " '__delitem__',\n",
              " '__dir__',\n",
              " '__doc__',\n",
              " '__eq__',\n",
              " '__format__',\n",
              " '__ge__',\n",
              " '__getattribute__',\n",
              " '__getitem__',\n",
              " '__gt__',\n",
              " '__hash__',\n",
              " '__iadd__',\n",
              " '__imul__',\n",
              " '__init__',\n",
              " '__init_subclass__',\n",
              " '__iter__',\n",
              " '__le__',\n",
              " '__len__',\n",
              " '__lt__',\n",
              " '__mul__',\n",
              " '__ne__',\n",
              " '__new__',\n",
              " '__reduce__',\n",
              " '__reduce_ex__',\n",
              " '__repr__',\n",
              " '__reversed__',\n",
              " '__rmul__',\n",
              " '__setattr__',\n",
              " '__setitem__',\n",
              " '__sizeof__',\n",
              " '__str__',\n",
              " '__subclasshook__',\n",
              " 'append',\n",
              " 'clear',\n",
              " 'copy',\n",
              " 'count',\n",
              " 'extend',\n",
              " 'index',\n",
              " 'insert',\n",
              " 'pop',\n",
              " 'remove',\n",
              " 'reverse',\n",
              " 'sort']"
            ]
          },
          "execution_count": 81,
          "metadata": {},
          "output_type": "execute_result"
        }
      ],
      "source": [
        "dir(list)"
      ]
    },
    {
      "cell_type": "markdown",
      "id": "c2922355",
      "metadata": {
        "id": "c2922355"
      },
      "source": [
        "### Adding elements to a list"
      ]
    },
    {
      "cell_type": "code",
      "execution_count": null,
      "id": "9c84aa69",
      "metadata": {
        "id": "9c84aa69"
      },
      "outputs": [],
      "source": [
        "shop_list = ['Apple','Bread','Coffee','Avocado']"
      ]
    },
    {
      "cell_type": "code",
      "execution_count": null,
      "id": "fcf2c427",
      "metadata": {
        "id": "fcf2c427"
      },
      "outputs": [],
      "source": [
        "shop_list.append('Butter')"
      ]
    },
    {
      "cell_type": "code",
      "execution_count": null,
      "id": "988877a5",
      "metadata": {
        "id": "988877a5",
        "outputId": "5b36c13d-64dd-4ebc-d1e1-d058cb85e1d3"
      },
      "outputs": [
        {
          "data": {
            "text/plain": [
              "['Apple', 'Bread', 'Coffee', 'Avocado', 'Butter']"
            ]
          },
          "execution_count": 92,
          "metadata": {},
          "output_type": "execute_result"
        }
      ],
      "source": [
        "shop_list"
      ]
    },
    {
      "cell_type": "code",
      "execution_count": null,
      "id": "e5c1da63",
      "metadata": {
        "id": "e5c1da63"
      },
      "outputs": [],
      "source": [
        "shop_list.insert(2,'Jam')"
      ]
    },
    {
      "cell_type": "code",
      "execution_count": null,
      "id": "21f67913",
      "metadata": {
        "id": "21f67913",
        "outputId": "df8b1b3c-30ef-4405-acc1-da2b9c78aa58"
      },
      "outputs": [
        {
          "data": {
            "text/plain": [
              "['Apple', 'Bread', 'Jam', 'Coffee', 'Avocado', 'Butter']"
            ]
          },
          "execution_count": 94,
          "metadata": {},
          "output_type": "execute_result"
        }
      ],
      "source": [
        "shop_list"
      ]
    },
    {
      "cell_type": "code",
      "execution_count": null,
      "id": "f7413b20",
      "metadata": {
        "id": "f7413b20",
        "outputId": "a435ef0c-7c21-4b6e-925c-06a2e9f66a84"
      },
      "outputs": [
        {
          "data": {
            "text/plain": [
              "6"
            ]
          },
          "execution_count": 95,
          "metadata": {},
          "output_type": "execute_result"
        }
      ],
      "source": [
        "len(shop_list)"
      ]
    },
    {
      "cell_type": "code",
      "execution_count": null,
      "id": "77460f7f",
      "metadata": {
        "id": "77460f7f"
      },
      "outputs": [],
      "source": [
        "shop_list.append(['Pen','Pencil','Notebook'])"
      ]
    },
    {
      "cell_type": "code",
      "execution_count": null,
      "id": "5462cedf",
      "metadata": {
        "id": "5462cedf",
        "outputId": "ef7a01e7-f5c4-4289-f4c0-263707226886"
      },
      "outputs": [
        {
          "data": {
            "text/plain": [
              "7"
            ]
          },
          "execution_count": 97,
          "metadata": {},
          "output_type": "execute_result"
        }
      ],
      "source": [
        "len(shop_list)"
      ]
    },
    {
      "cell_type": "code",
      "execution_count": null,
      "id": "aca6053c",
      "metadata": {
        "id": "aca6053c",
        "outputId": "3ab8a09f-92d7-491a-d198-57c0b7925f0f"
      },
      "outputs": [
        {
          "data": {
            "text/plain": [
              "['Apple',\n",
              " 'Bread',\n",
              " 'Jam',\n",
              " 'Coffee',\n",
              " 'Avocado',\n",
              " 'Butter',\n",
              " ['Pen', 'Pencil', 'Notebook']]"
            ]
          },
          "execution_count": 98,
          "metadata": {},
          "output_type": "execute_result"
        }
      ],
      "source": [
        "shop_list"
      ]
    },
    {
      "cell_type": "code",
      "execution_count": null,
      "id": "6c3c88bb",
      "metadata": {
        "id": "6c3c88bb"
      },
      "outputs": [],
      "source": [
        "shop_list.append((1,2))"
      ]
    },
    {
      "cell_type": "code",
      "execution_count": null,
      "id": "cf51b27e",
      "metadata": {
        "id": "cf51b27e",
        "outputId": "727629fb-e8d7-4d30-fe02-b2312fb23cb0"
      },
      "outputs": [
        {
          "data": {
            "text/plain": [
              "['Apple',\n",
              " 'Bread',\n",
              " 'Jam',\n",
              " 'Tea',\n",
              " 'Avocado',\n",
              " 'Butter',\n",
              " ['Pen', 'Ball Pen', 'Notebook'],\n",
              " 'Milk',\n",
              " 'Flour',\n",
              " 'ToothPaste',\n",
              " (1, 2)]"
            ]
          },
          "execution_count": 108,
          "metadata": {},
          "output_type": "execute_result"
        }
      ],
      "source": [
        "shop_list"
      ]
    },
    {
      "cell_type": "code",
      "execution_count": null,
      "id": "ff9d30e8",
      "metadata": {
        "id": "ff9d30e8"
      },
      "outputs": [],
      "source": [
        "shop_list.extend(['Milk','Flour','ToothPaste'])"
      ]
    },
    {
      "cell_type": "code",
      "execution_count": null,
      "id": "066af2c9",
      "metadata": {
        "id": "066af2c9",
        "outputId": "f3ea9020-a241-4794-a313-715282f79ef2"
      },
      "outputs": [
        {
          "data": {
            "text/plain": [
              "['Apple',\n",
              " 'Bread',\n",
              " 'Jam',\n",
              " 'Coffee',\n",
              " 'Avocado',\n",
              " 'Butter',\n",
              " ['Pen', 'Pencil', 'Notebook'],\n",
              " 'Milk',\n",
              " 'Flour',\n",
              " 'ToothPaste']"
            ]
          },
          "execution_count": 100,
          "metadata": {},
          "output_type": "execute_result"
        }
      ],
      "source": [
        "shop_list"
      ]
    },
    {
      "cell_type": "code",
      "execution_count": null,
      "id": "7698df08",
      "metadata": {
        "id": "7698df08"
      },
      "outputs": [],
      "source": [
        "shop_list.extend((1,2,3))"
      ]
    },
    {
      "cell_type": "code",
      "execution_count": null,
      "id": "a6099037",
      "metadata": {
        "id": "a6099037",
        "outputId": "d2484ff3-8643-4ade-952a-70036f56f7e2"
      },
      "outputs": [
        {
          "data": {
            "text/plain": [
              "['Apple',\n",
              " 'Bread',\n",
              " 'Jam',\n",
              " 'Tea',\n",
              " 'Avocado',\n",
              " 'Butter',\n",
              " ['Pen', 'Ball Pen', 'Notebook'],\n",
              " 'Milk',\n",
              " 'Flour',\n",
              " 'ToothPaste',\n",
              " (1, 2),\n",
              " 1,\n",
              " 2,\n",
              " 3]"
            ]
          },
          "execution_count": 110,
          "metadata": {},
          "output_type": "execute_result"
        }
      ],
      "source": [
        "shop_list"
      ]
    },
    {
      "cell_type": "code",
      "execution_count": null,
      "id": "f9ab1eaf",
      "metadata": {
        "id": "f9ab1eaf"
      },
      "outputs": [],
      "source": [
        "shop_list.extend(\"abc\")"
      ]
    },
    {
      "cell_type": "code",
      "execution_count": null,
      "id": "1dd5f903",
      "metadata": {
        "id": "1dd5f903",
        "outputId": "43cb33ac-3698-4f93-933e-9ab490c68b3c"
      },
      "outputs": [
        {
          "data": {
            "text/plain": [
              "['Apple',\n",
              " 'Bread',\n",
              " 'Jam',\n",
              " 'Tea',\n",
              " 'Avocado',\n",
              " 'Butter',\n",
              " ['Pen', 'Ball Pen', 'Notebook'],\n",
              " 'Milk',\n",
              " 'Flour',\n",
              " 'ToothPaste',\n",
              " (1, 2),\n",
              " 1,\n",
              " 2,\n",
              " 3,\n",
              " 'a',\n",
              " 'b',\n",
              " 'c']"
            ]
          },
          "execution_count": 112,
          "metadata": {},
          "output_type": "execute_result"
        }
      ],
      "source": [
        "shop_list"
      ]
    },
    {
      "cell_type": "markdown",
      "id": "b97e0475",
      "metadata": {
        "id": "b97e0475"
      },
      "source": [
        "#### Replace a element"
      ]
    },
    {
      "cell_type": "code",
      "execution_count": null,
      "id": "6742a0ec",
      "metadata": {
        "id": "6742a0ec"
      },
      "outputs": [],
      "source": [
        "shop_list[3] = 'Tea'"
      ]
    },
    {
      "cell_type": "code",
      "execution_count": null,
      "id": "c59f07f4",
      "metadata": {
        "id": "c59f07f4",
        "outputId": "9d095670-be0b-4da7-9864-3181e7e974d6"
      },
      "outputs": [
        {
          "data": {
            "text/plain": [
              "['Apple',\n",
              " 'Bread',\n",
              " 'Jam',\n",
              " 'Tea',\n",
              " 'Avocado',\n",
              " 'Butter',\n",
              " ['Pen', 'Pencil', 'Notebook'],\n",
              " 'Milk',\n",
              " 'Flour',\n",
              " 'ToothPaste']"
            ]
          },
          "execution_count": 102,
          "metadata": {},
          "output_type": "execute_result"
        }
      ],
      "source": [
        "shop_list"
      ]
    },
    {
      "cell_type": "code",
      "execution_count": null,
      "id": "a19949cd",
      "metadata": {
        "id": "a19949cd"
      },
      "outputs": [],
      "source": [
        "shop_list[6][1]='Ball Pen'"
      ]
    },
    {
      "cell_type": "code",
      "execution_count": null,
      "id": "f72c24b4",
      "metadata": {
        "id": "f72c24b4",
        "outputId": "9a3393e8-439e-44db-af17-32e1818f7968"
      },
      "outputs": [
        {
          "data": {
            "text/plain": [
              "['Apple',\n",
              " 'Bread',\n",
              " 'Jam',\n",
              " 'Tea',\n",
              " 'Avocado',\n",
              " 'Butter',\n",
              " ['Pen', 'Ball Pen', 'Notebook'],\n",
              " 'Milk',\n",
              " 'Flour',\n",
              " 'ToothPaste',\n",
              " (1, 2),\n",
              " 1,\n",
              " 2,\n",
              " 3,\n",
              " 'a',\n",
              " 'b',\n",
              " 'c']"
            ]
          },
          "execution_count": 113,
          "metadata": {},
          "output_type": "execute_result"
        }
      ],
      "source": [
        "shop_list"
      ]
    },
    {
      "cell_type": "markdown",
      "id": "d140c25d",
      "metadata": {
        "id": "d140c25d"
      },
      "source": [
        "### Remove elements from a list"
      ]
    },
    {
      "cell_type": "code",
      "execution_count": null,
      "id": "ba5919df",
      "metadata": {
        "id": "ba5919df",
        "outputId": "79730ea4-2109-4ced-a74d-47fd8a95477f"
      },
      "outputs": [
        {
          "data": {
            "text/plain": [
              "'c'"
            ]
          },
          "execution_count": 114,
          "metadata": {},
          "output_type": "execute_result"
        }
      ],
      "source": [
        "shop_list.pop()"
      ]
    },
    {
      "cell_type": "code",
      "execution_count": null,
      "id": "75228a24",
      "metadata": {
        "id": "75228a24",
        "outputId": "8b7b6db2-d260-4c76-a914-edfee102117d"
      },
      "outputs": [
        {
          "data": {
            "text/plain": [
              "['Apple',\n",
              " 'Bread',\n",
              " 'Jam',\n",
              " 'Tea',\n",
              " 'Avocado',\n",
              " 'Butter',\n",
              " ['Pen', 'Ball Pen', 'Notebook'],\n",
              " 'Milk',\n",
              " 'Flour',\n",
              " 'ToothPaste',\n",
              " (1, 2),\n",
              " 1,\n",
              " 2,\n",
              " 3,\n",
              " 'a',\n",
              " 'b']"
            ]
          },
          "execution_count": 115,
          "metadata": {},
          "output_type": "execute_result"
        }
      ],
      "source": [
        "shop_list"
      ]
    },
    {
      "cell_type": "code",
      "execution_count": null,
      "id": "e29638d8",
      "metadata": {
        "id": "e29638d8",
        "outputId": "f5d86175-876d-40f3-d2d3-9a9afdf09705"
      },
      "outputs": [
        {
          "data": {
            "text/plain": [
              "'b'"
            ]
          },
          "execution_count": 116,
          "metadata": {},
          "output_type": "execute_result"
        }
      ],
      "source": [
        "shop_list.pop()"
      ]
    },
    {
      "cell_type": "code",
      "execution_count": null,
      "id": "c3166d3e",
      "metadata": {
        "id": "c3166d3e",
        "outputId": "fc01fe0e-872a-4a6a-e58e-8ad9cd72e068"
      },
      "outputs": [
        {
          "data": {
            "text/plain": [
              "['Apple',\n",
              " 'Bread',\n",
              " 'Jam',\n",
              " 'Tea',\n",
              " 'Avocado',\n",
              " 'Butter',\n",
              " ['Pen', 'Ball Pen', 'Notebook'],\n",
              " 'Milk',\n",
              " 'Flour',\n",
              " 'ToothPaste',\n",
              " (1, 2),\n",
              " 1,\n",
              " 2,\n",
              " 3,\n",
              " 'a']"
            ]
          },
          "execution_count": 117,
          "metadata": {},
          "output_type": "execute_result"
        }
      ],
      "source": [
        "shop_list"
      ]
    },
    {
      "cell_type": "code",
      "execution_count": null,
      "id": "6a6335bb",
      "metadata": {
        "id": "6a6335bb",
        "outputId": "2c8e8cd0-e8ed-4ab8-9037-1f1159450bae"
      },
      "outputs": [
        {
          "data": {
            "text/plain": [
              "'Jam'"
            ]
          },
          "execution_count": 118,
          "metadata": {},
          "output_type": "execute_result"
        }
      ],
      "source": [
        "shop_list.pop(2)"
      ]
    },
    {
      "cell_type": "code",
      "execution_count": null,
      "id": "e1874858",
      "metadata": {
        "id": "e1874858",
        "outputId": "dc4fda54-cfeb-492d-dbbd-dbcdee308aaa"
      },
      "outputs": [
        {
          "data": {
            "text/plain": [
              "['Apple',\n",
              " 'Bread',\n",
              " 'Tea',\n",
              " 'Avocado',\n",
              " 'Butter',\n",
              " ['Pen', 'Ball Pen', 'Notebook'],\n",
              " 'Milk',\n",
              " 'Flour',\n",
              " 'ToothPaste',\n",
              " (1, 2),\n",
              " 1,\n",
              " 2,\n",
              " 3,\n",
              " 'a']"
            ]
          },
          "execution_count": 119,
          "metadata": {},
          "output_type": "execute_result"
        }
      ],
      "source": [
        "shop_list"
      ]
    },
    {
      "cell_type": "code",
      "execution_count": null,
      "id": "8ecbb53e",
      "metadata": {
        "id": "8ecbb53e"
      },
      "outputs": [],
      "source": [
        "shop_list.remove('ToothPaste')"
      ]
    },
    {
      "cell_type": "code",
      "execution_count": null,
      "id": "8f014ad8",
      "metadata": {
        "id": "8f014ad8",
        "outputId": "10438946-7168-4715-ecc3-d46dda315c86"
      },
      "outputs": [
        {
          "data": {
            "text/plain": [
              "['Apple',\n",
              " 'Bread',\n",
              " 'Tea',\n",
              " 'Avocado',\n",
              " 'Butter',\n",
              " ['Pen', 'Ball Pen', 'Notebook'],\n",
              " 'Milk',\n",
              " 'Flour',\n",
              " (1, 2),\n",
              " 1,\n",
              " 2,\n",
              " 3,\n",
              " 'a']"
            ]
          },
          "execution_count": 121,
          "metadata": {},
          "output_type": "execute_result"
        }
      ],
      "source": [
        "shop_list"
      ]
    },
    {
      "cell_type": "code",
      "execution_count": null,
      "id": "88c49471",
      "metadata": {
        "id": "88c49471"
      },
      "outputs": [],
      "source": [
        "shop_list[5].remove('Pen')"
      ]
    },
    {
      "cell_type": "code",
      "execution_count": null,
      "id": "9eeef777",
      "metadata": {
        "id": "9eeef777",
        "outputId": "b59ada6e-80c0-48c8-9263-c9fe56936749"
      },
      "outputs": [
        {
          "data": {
            "text/plain": [
              "['Apple',\n",
              " 'Bread',\n",
              " 'Tea',\n",
              " 'Avocado',\n",
              " 'Butter',\n",
              " ['Ball Pen', 'Notebook'],\n",
              " 'Milk',\n",
              " 'Flour',\n",
              " (1, 2),\n",
              " 1,\n",
              " 2,\n",
              " 3,\n",
              " 'a']"
            ]
          },
          "execution_count": 123,
          "metadata": {},
          "output_type": "execute_result"
        }
      ],
      "source": [
        "shop_list"
      ]
    },
    {
      "cell_type": "code",
      "execution_count": null,
      "id": "74a54d5d",
      "metadata": {
        "id": "74a54d5d"
      },
      "outputs": [],
      "source": [
        "shop_list.clear()"
      ]
    },
    {
      "cell_type": "code",
      "execution_count": null,
      "id": "2ed78f93",
      "metadata": {
        "id": "2ed78f93",
        "outputId": "ce205845-e15a-4c9c-c4e6-50665e3af9f5"
      },
      "outputs": [
        {
          "data": {
            "text/plain": [
              "[]"
            ]
          },
          "execution_count": 125,
          "metadata": {},
          "output_type": "execute_result"
        }
      ],
      "source": [
        "shop_list"
      ]
    },
    {
      "cell_type": "code",
      "execution_count": null,
      "id": "15633327",
      "metadata": {
        "id": "15633327"
      },
      "outputs": [],
      "source": [
        "shop_list = ['Apple','Bread','Coffee','Avocado','Bread']"
      ]
    },
    {
      "cell_type": "code",
      "execution_count": null,
      "id": "e33ef5e9",
      "metadata": {
        "id": "e33ef5e9",
        "outputId": "39a5bdfe-3ab3-4556-bcf5-5b5e389cb065"
      },
      "outputs": [
        {
          "data": {
            "text/plain": [
              "2"
            ]
          },
          "execution_count": 127,
          "metadata": {},
          "output_type": "execute_result"
        }
      ],
      "source": [
        "shop_list.index('Coffee')"
      ]
    },
    {
      "cell_type": "code",
      "execution_count": null,
      "id": "79387b27",
      "metadata": {
        "id": "79387b27",
        "outputId": "0626571f-ec00-441d-9fb4-d5cd3acfd4f2"
      },
      "outputs": [
        {
          "data": {
            "text/plain": [
              "1"
            ]
          },
          "execution_count": 128,
          "metadata": {},
          "output_type": "execute_result"
        }
      ],
      "source": [
        "shop_list.index('Bread')"
      ]
    },
    {
      "cell_type": "code",
      "execution_count": null,
      "id": "8672c300",
      "metadata": {
        "id": "8672c300",
        "outputId": "c6f11281-e18b-461e-8bd7-8b1afce99143"
      },
      "outputs": [
        {
          "data": {
            "text/plain": [
              "2"
            ]
          },
          "execution_count": 129,
          "metadata": {},
          "output_type": "execute_result"
        }
      ],
      "source": [
        "shop_list.count('Bread')"
      ]
    },
    {
      "cell_type": "code",
      "execution_count": null,
      "id": "9c304d05",
      "metadata": {
        "id": "9c304d05",
        "outputId": "5ff0ada1-8851-4eb3-a10b-0bab7dc58f44"
      },
      "outputs": [
        {
          "data": {
            "text/plain": [
              "1"
            ]
          },
          "execution_count": 130,
          "metadata": {},
          "output_type": "execute_result"
        }
      ],
      "source": [
        "shop_list.count('Avocado')"
      ]
    },
    {
      "cell_type": "markdown",
      "id": "7ea1fc75",
      "metadata": {
        "id": "7ea1fc75"
      },
      "source": [
        "### sort()"
      ]
    },
    {
      "cell_type": "code",
      "execution_count": null,
      "id": "33b9ce84",
      "metadata": {
        "id": "33b9ce84"
      },
      "outputs": [],
      "source": [
        "marks = [34,12,67,56,90,87]"
      ]
    },
    {
      "cell_type": "code",
      "execution_count": null,
      "id": "1e225f00",
      "metadata": {
        "id": "1e225f00"
      },
      "outputs": [],
      "source": [
        "marks.sort()"
      ]
    },
    {
      "cell_type": "code",
      "execution_count": null,
      "id": "ca7124dd",
      "metadata": {
        "id": "ca7124dd",
        "outputId": "6e2f475f-542c-4c0e-f6dd-f3b60aec92c5"
      },
      "outputs": [
        {
          "data": {
            "text/plain": [
              "[12, 34, 56, 67, 87, 90]"
            ]
          },
          "execution_count": 133,
          "metadata": {},
          "output_type": "execute_result"
        }
      ],
      "source": [
        "marks"
      ]
    },
    {
      "cell_type": "code",
      "execution_count": null,
      "id": "5fef1bb5",
      "metadata": {
        "id": "5fef1bb5"
      },
      "outputs": [],
      "source": [
        "marks = [34,12,67,56,90,87]"
      ]
    },
    {
      "cell_type": "code",
      "execution_count": null,
      "id": "ebbf49e2",
      "metadata": {
        "id": "ebbf49e2"
      },
      "outputs": [],
      "source": [
        "marks.sort(reverse=True)"
      ]
    },
    {
      "cell_type": "code",
      "execution_count": null,
      "id": "b9a82d04",
      "metadata": {
        "id": "b9a82d04",
        "outputId": "afb8a6a8-129a-4e4e-93e5-573a3aa142bf"
      },
      "outputs": [
        {
          "data": {
            "text/plain": [
              "[90, 87, 67, 56, 34, 12]"
            ]
          },
          "execution_count": 136,
          "metadata": {},
          "output_type": "execute_result"
        }
      ],
      "source": [
        "marks"
      ]
    },
    {
      "cell_type": "code",
      "execution_count": null,
      "id": "cccf37b0",
      "metadata": {
        "id": "cccf37b0"
      },
      "outputs": [],
      "source": [
        "marks = [34,12,67,56,90,87]"
      ]
    },
    {
      "cell_type": "code",
      "execution_count": null,
      "id": "5211b29f",
      "metadata": {
        "id": "5211b29f"
      },
      "outputs": [],
      "source": [
        "marks.reverse()"
      ]
    },
    {
      "cell_type": "code",
      "execution_count": null,
      "id": "bd38c376",
      "metadata": {
        "id": "bd38c376",
        "outputId": "9d9aa447-833d-484d-babb-bb3cbbcdc14c"
      },
      "outputs": [
        {
          "data": {
            "text/plain": [
              "[87, 90, 56, 67, 12, 34]"
            ]
          },
          "execution_count": 139,
          "metadata": {},
          "output_type": "execute_result"
        }
      ],
      "source": [
        "marks"
      ]
    },
    {
      "cell_type": "code",
      "execution_count": null,
      "id": "1d88b095",
      "metadata": {
        "id": "1d88b095"
      },
      "outputs": [],
      "source": [
        "shop_list = ['Apple','Bread','Coffee','Avocado','Bread']"
      ]
    },
    {
      "cell_type": "code",
      "execution_count": null,
      "id": "70a29996",
      "metadata": {
        "id": "70a29996"
      },
      "outputs": [],
      "source": [
        "shop_list.sort()"
      ]
    },
    {
      "cell_type": "code",
      "execution_count": null,
      "id": "e25aa61b",
      "metadata": {
        "id": "e25aa61b",
        "outputId": "b03841b4-6bc6-45bc-d258-aa05bdf21ea4"
      },
      "outputs": [
        {
          "data": {
            "text/plain": [
              "['Apple', 'Avocado', 'Bread', 'Bread', 'Coffee']"
            ]
          },
          "execution_count": 142,
          "metadata": {},
          "output_type": "execute_result"
        }
      ],
      "source": [
        "shop_list"
      ]
    },
    {
      "cell_type": "code",
      "execution_count": null,
      "id": "0665f3fc",
      "metadata": {
        "id": "0665f3fc"
      },
      "outputs": [],
      "source": [
        "### copy()"
      ]
    },
    {
      "cell_type": "code",
      "execution_count": null,
      "id": "a527b2fb",
      "metadata": {
        "id": "a527b2fb"
      },
      "outputs": [],
      "source": [
        "ls1 = [1,2,3]"
      ]
    },
    {
      "cell_type": "code",
      "execution_count": null,
      "id": "d786e7ad",
      "metadata": {
        "id": "d786e7ad"
      },
      "outputs": [],
      "source": [
        "ls2 = ls1"
      ]
    },
    {
      "cell_type": "code",
      "execution_count": null,
      "id": "88d94f32",
      "metadata": {
        "id": "88d94f32",
        "outputId": "396878ad-cdd2-49e6-f7d4-c0f4af5286f7"
      },
      "outputs": [
        {
          "data": {
            "text/plain": [
              "[1, 2, 3]"
            ]
          },
          "execution_count": 146,
          "metadata": {},
          "output_type": "execute_result"
        }
      ],
      "source": [
        "ls2"
      ]
    },
    {
      "cell_type": "code",
      "execution_count": null,
      "id": "2e5db67c",
      "metadata": {
        "id": "2e5db67c"
      },
      "outputs": [],
      "source": [
        "ls2[1] = 100"
      ]
    },
    {
      "cell_type": "code",
      "execution_count": null,
      "id": "713ff995",
      "metadata": {
        "id": "713ff995",
        "outputId": "ab8e984f-8feb-4ae1-b36e-2e7a8e465401"
      },
      "outputs": [
        {
          "data": {
            "text/plain": [
              "[1, 100, 3]"
            ]
          },
          "execution_count": 148,
          "metadata": {},
          "output_type": "execute_result"
        }
      ],
      "source": [
        "ls2"
      ]
    },
    {
      "cell_type": "code",
      "execution_count": null,
      "id": "29a9d08b",
      "metadata": {
        "id": "29a9d08b",
        "outputId": "b61eed5c-618f-4c3a-ebdd-3851ba911131"
      },
      "outputs": [
        {
          "data": {
            "text/plain": [
              "[1, 100, 3]"
            ]
          },
          "execution_count": 149,
          "metadata": {},
          "output_type": "execute_result"
        }
      ],
      "source": [
        "ls1"
      ]
    },
    {
      "cell_type": "code",
      "execution_count": null,
      "id": "55a2bf6b",
      "metadata": {
        "id": "55a2bf6b"
      },
      "outputs": [],
      "source": [
        "ls1 = [1,2,3]\n",
        "ls3 = ls1.copy()"
      ]
    },
    {
      "cell_type": "code",
      "execution_count": null,
      "id": "485ea026",
      "metadata": {
        "id": "485ea026"
      },
      "outputs": [],
      "source": [
        "ls3[1] = 100"
      ]
    },
    {
      "cell_type": "code",
      "execution_count": null,
      "id": "079a263b",
      "metadata": {
        "id": "079a263b",
        "outputId": "177fd1ef-7fb8-4b80-8f70-d7781a44cd2b"
      },
      "outputs": [
        {
          "data": {
            "text/plain": [
              "[1, 100, 3]"
            ]
          },
          "execution_count": 152,
          "metadata": {},
          "output_type": "execute_result"
        }
      ],
      "source": [
        "ls3"
      ]
    },
    {
      "cell_type": "code",
      "execution_count": null,
      "id": "9920c4d9",
      "metadata": {
        "id": "9920c4d9",
        "outputId": "7a92ef8a-a2f7-4f34-c66f-e00787e9d8c2"
      },
      "outputs": [
        {
          "data": {
            "text/plain": [
              "[1, 2, 3]"
            ]
          },
          "execution_count": 153,
          "metadata": {},
          "output_type": "execute_result"
        }
      ],
      "source": [
        "ls1"
      ]
    },
    {
      "cell_type": "markdown",
      "id": "47cb3e0f",
      "metadata": {
        "id": "47cb3e0f"
      },
      "source": [
        "### Identity Operation"
      ]
    },
    {
      "cell_type": "code",
      "execution_count": null,
      "id": "cba3ca45",
      "metadata": {
        "id": "cba3ca45"
      },
      "outputs": [],
      "source": [
        "ls1 = [1,2,3]"
      ]
    },
    {
      "cell_type": "code",
      "execution_count": null,
      "id": "57645ce8",
      "metadata": {
        "id": "57645ce8"
      },
      "outputs": [],
      "source": [
        "ls2 = ls1"
      ]
    },
    {
      "cell_type": "code",
      "execution_count": null,
      "id": "e9642f94",
      "metadata": {
        "id": "e9642f94"
      },
      "outputs": [],
      "source": [
        "ls3 = ls1.copy()"
      ]
    },
    {
      "cell_type": "code",
      "execution_count": null,
      "id": "b2cc878b",
      "metadata": {
        "id": "b2cc878b",
        "outputId": "b51858fd-19c3-4904-8344-58a4d7e3cab3"
      },
      "outputs": [
        {
          "data": {
            "text/plain": [
              "(True, True)"
            ]
          },
          "execution_count": 158,
          "metadata": {},
          "output_type": "execute_result"
        }
      ],
      "source": [
        "ls1 == ls2 , ls1 is ls2"
      ]
    },
    {
      "cell_type": "code",
      "execution_count": null,
      "id": "20b67e47",
      "metadata": {
        "id": "20b67e47",
        "outputId": "da41faf9-b0aa-4a95-ea3b-9f464af087ed"
      },
      "outputs": [
        {
          "data": {
            "text/plain": [
              "(True, False)"
            ]
          },
          "execution_count": 159,
          "metadata": {},
          "output_type": "execute_result"
        }
      ],
      "source": [
        "ls1 == ls3, ls1 is ls3"
      ]
    },
    {
      "cell_type": "code",
      "execution_count": null,
      "id": "b34aab00",
      "metadata": {
        "id": "b34aab00",
        "outputId": "a771ff29-810c-46e6-d15e-a9d2f6364cc9"
      },
      "outputs": [
        {
          "data": {
            "text/plain": [
              "['__add__',\n",
              " '__class__',\n",
              " '__contains__',\n",
              " '__delattr__',\n",
              " '__dir__',\n",
              " '__doc__',\n",
              " '__eq__',\n",
              " '__format__',\n",
              " '__ge__',\n",
              " '__getattribute__',\n",
              " '__getitem__',\n",
              " '__getnewargs__',\n",
              " '__gt__',\n",
              " '__hash__',\n",
              " '__init__',\n",
              " '__init_subclass__',\n",
              " '__iter__',\n",
              " '__le__',\n",
              " '__len__',\n",
              " '__lt__',\n",
              " '__mul__',\n",
              " '__ne__',\n",
              " '__new__',\n",
              " '__reduce__',\n",
              " '__reduce_ex__',\n",
              " '__repr__',\n",
              " '__rmul__',\n",
              " '__setattr__',\n",
              " '__sizeof__',\n",
              " '__str__',\n",
              " '__subclasshook__',\n",
              " 'count',\n",
              " 'index']"
            ]
          },
          "execution_count": 160,
          "metadata": {},
          "output_type": "execute_result"
        }
      ],
      "source": [
        "dir(tuple)"
      ]
    },
    {
      "cell_type": "code",
      "execution_count": null,
      "id": "b0a26f4c",
      "metadata": {
        "id": "b0a26f4c"
      },
      "outputs": [],
      "source": [
        "x = (1,2,3)"
      ]
    },
    {
      "cell_type": "code",
      "execution_count": null,
      "id": "a1f60028",
      "metadata": {
        "id": "a1f60028",
        "outputId": "ad7dfab9-251b-4b08-cb3e-7e3df41e7c22"
      },
      "outputs": [
        {
          "data": {
            "text/plain": [
              "tuple"
            ]
          },
          "execution_count": 164,
          "metadata": {},
          "output_type": "execute_result"
        }
      ],
      "source": [
        "type(x)"
      ]
    },
    {
      "cell_type": "code",
      "execution_count": null,
      "id": "2ad8733e",
      "metadata": {
        "id": "2ad8733e",
        "outputId": "e372094e-1135-4afd-cbd9-38b3b02469c1"
      },
      "outputs": [
        {
          "data": {
            "text/plain": [
              "1"
            ]
          },
          "execution_count": 165,
          "metadata": {},
          "output_type": "execute_result"
        }
      ],
      "source": [
        "x.index(2)"
      ]
    },
    {
      "cell_type": "code",
      "execution_count": null,
      "id": "f7f76147",
      "metadata": {
        "id": "f7f76147",
        "outputId": "a8156001-ed93-42e1-fc94-1a3122b90f24"
      },
      "outputs": [
        {
          "data": {
            "text/plain": [
              "1"
            ]
          },
          "execution_count": 166,
          "metadata": {},
          "output_type": "execute_result"
        }
      ],
      "source": [
        "x.count(2)"
      ]
    },
    {
      "cell_type": "code",
      "execution_count": null,
      "id": "0c247a09",
      "metadata": {
        "id": "0c247a09"
      },
      "outputs": [],
      "source": [
        "y =('a','b','b','c')"
      ]
    },
    {
      "cell_type": "code",
      "execution_count": null,
      "id": "bd22b202",
      "metadata": {
        "id": "bd22b202",
        "outputId": "6ffc3b98-c6eb-47d3-acc8-3d5178a80ec1"
      },
      "outputs": [
        {
          "data": {
            "text/plain": [
              "1"
            ]
          },
          "execution_count": 169,
          "metadata": {},
          "output_type": "execute_result"
        }
      ],
      "source": [
        "y.count('c')"
      ]
    },
    {
      "cell_type": "markdown",
      "id": "334e825a",
      "metadata": {
        "id": "334e825a"
      },
      "source": [
        "### String Methods"
      ]
    },
    {
      "cell_type": "code",
      "execution_count": null,
      "id": "9f4b22b1",
      "metadata": {
        "id": "9f4b22b1"
      },
      "outputs": [],
      "source": [
        "s1 = 'i love python'"
      ]
    },
    {
      "cell_type": "code",
      "execution_count": null,
      "id": "d549a544",
      "metadata": {
        "id": "d549a544",
        "outputId": "2a676688-43ef-42fd-e977-78b2600b53c9"
      },
      "outputs": [
        {
          "data": {
            "text/plain": [
              "'I love python'"
            ]
          },
          "execution_count": 38,
          "metadata": {},
          "output_type": "execute_result"
        }
      ],
      "source": [
        "s1.capitalize()"
      ]
    },
    {
      "cell_type": "code",
      "execution_count": null,
      "id": "448d5821",
      "metadata": {
        "id": "448d5821",
        "outputId": "dd1cf9ee-efc6-43be-9e84-29ff0d4e3313"
      },
      "outputs": [
        {
          "data": {
            "text/plain": [
              "'i love python'"
            ]
          },
          "execution_count": 39,
          "metadata": {},
          "output_type": "execute_result"
        }
      ],
      "source": [
        "s1"
      ]
    },
    {
      "cell_type": "code",
      "execution_count": null,
      "id": "e82f936f",
      "metadata": {
        "id": "e82f936f",
        "outputId": "96d154ce-a2cb-4169-a41e-b3ea22f8ea2a"
      },
      "outputs": [
        {
          "data": {
            "text/plain": [
              "'I Love Python'"
            ]
          },
          "execution_count": 3,
          "metadata": {},
          "output_type": "execute_result"
        }
      ],
      "source": [
        "s1.title()"
      ]
    },
    {
      "cell_type": "code",
      "execution_count": null,
      "id": "8aaca46e",
      "metadata": {
        "id": "8aaca46e",
        "outputId": "f1ded18c-379b-43e6-e97d-9325bc8d9e51"
      },
      "outputs": [
        {
          "data": {
            "text/plain": [
              "'I LOVE PYTHON'"
            ]
          },
          "execution_count": 4,
          "metadata": {},
          "output_type": "execute_result"
        }
      ],
      "source": [
        "s1.upper()"
      ]
    },
    {
      "cell_type": "code",
      "execution_count": null,
      "id": "aca52d86",
      "metadata": {
        "id": "aca52d86"
      },
      "outputs": [],
      "source": [
        "s2 = 'Happy Birth Day'"
      ]
    },
    {
      "cell_type": "code",
      "execution_count": null,
      "id": "1bc7742e",
      "metadata": {
        "id": "1bc7742e",
        "outputId": "e08cb07d-0010-4fec-c420-a577ef4ef3de"
      },
      "outputs": [
        {
          "data": {
            "text/plain": [
              "'happy birth day'"
            ]
          },
          "execution_count": 6,
          "metadata": {},
          "output_type": "execute_result"
        }
      ],
      "source": [
        "s2.lower()"
      ]
    },
    {
      "cell_type": "code",
      "execution_count": null,
      "id": "1287b8b8",
      "metadata": {
        "id": "1287b8b8",
        "outputId": "9f84a464-6dcb-49ef-cf61-fea1e658d1b9"
      },
      "outputs": [
        {
          "data": {
            "text/plain": [
              "'hAPPY bIRTH dAY'"
            ]
          },
          "execution_count": 7,
          "metadata": {},
          "output_type": "execute_result"
        }
      ],
      "source": [
        "s2.swapcase()"
      ]
    },
    {
      "cell_type": "code",
      "execution_count": null,
      "id": "ed4e2f40",
      "metadata": {
        "id": "ed4e2f40",
        "outputId": "2d38da0e-f2c1-4dd2-97ec-f1d1aaf51110"
      },
      "outputs": [
        {
          "data": {
            "text/plain": [
              "(True, False, True)"
            ]
          },
          "execution_count": 10,
          "metadata": {},
          "output_type": "execute_result"
        }
      ],
      "source": [
        "'python'.islower(), 'Python'.isupper(), 'PYTHON'.isupper()"
      ]
    },
    {
      "cell_type": "code",
      "execution_count": null,
      "id": "9b43b7f8",
      "metadata": {
        "id": "9b43b7f8",
        "outputId": "3d1d1cb2-d0e5-4608-c98e-31b70816759c"
      },
      "outputs": [
        {
          "data": {
            "text/plain": [
              "(True, False)"
            ]
          },
          "execution_count": 11,
          "metadata": {},
          "output_type": "execute_result"
        }
      ],
      "source": [
        "'python'.startswith('py'), 'python'.startswith('on')"
      ]
    },
    {
      "cell_type": "code",
      "execution_count": null,
      "id": "c5eab63c",
      "metadata": {
        "id": "c5eab63c",
        "outputId": "6c7573b0-83f7-49c5-b488-63e2e8dcb487"
      },
      "outputs": [
        {
          "data": {
            "text/plain": [
              "(False, True)"
            ]
          },
          "execution_count": 12,
          "metadata": {},
          "output_type": "execute_result"
        }
      ],
      "source": [
        "'python'.endswith('py'), 'python'.endswith('on')"
      ]
    },
    {
      "cell_type": "code",
      "execution_count": null,
      "id": "53f9e8d4",
      "metadata": {
        "id": "53f9e8d4"
      },
      "outputs": [],
      "source": [
        "s1 = '  Python  '"
      ]
    },
    {
      "cell_type": "code",
      "execution_count": null,
      "id": "ac30e0b4",
      "metadata": {
        "id": "ac30e0b4",
        "outputId": "25571a83-0d7a-4ebf-aab7-f026548f9689"
      },
      "outputs": [
        {
          "data": {
            "text/plain": [
              "'Python'"
            ]
          },
          "execution_count": 14,
          "metadata": {},
          "output_type": "execute_result"
        }
      ],
      "source": [
        "s1.strip()"
      ]
    },
    {
      "cell_type": "code",
      "execution_count": null,
      "id": "2f5df906",
      "metadata": {
        "id": "2f5df906",
        "outputId": "e4733d1c-fb87-434c-d223-30ff381ec6b2"
      },
      "outputs": [
        {
          "data": {
            "text/plain": [
              "('Python  ', '  Python')"
            ]
          },
          "execution_count": 15,
          "metadata": {},
          "output_type": "execute_result"
        }
      ],
      "source": [
        "s1.lstrip(), s1.rstrip()"
      ]
    },
    {
      "cell_type": "code",
      "execution_count": null,
      "id": "4dc5374c",
      "metadata": {
        "id": "4dc5374c"
      },
      "outputs": [],
      "source": [
        "s2 = 'python3.0'"
      ]
    },
    {
      "cell_type": "code",
      "execution_count": null,
      "id": "509ce41f",
      "metadata": {
        "id": "509ce41f",
        "outputId": "1a4a5de3-7a29-4fab-a1a2-b4add10bc01c"
      },
      "outputs": [
        {
          "data": {
            "text/plain": [
              "(False, False, False)"
            ]
          },
          "execution_count": 24,
          "metadata": {},
          "output_type": "execute_result"
        }
      ],
      "source": [
        "s2.isalpha(), s2.isalnum(), s2.isnumeric()"
      ]
    },
    {
      "cell_type": "code",
      "execution_count": null,
      "id": "79fb5539",
      "metadata": {
        "id": "79fb5539"
      },
      "outputs": [],
      "source": [
        "str1 = 'Apple,Orange,Grapes,Mango'"
      ]
    },
    {
      "cell_type": "code",
      "execution_count": null,
      "id": "481a4449",
      "metadata": {
        "id": "481a4449",
        "outputId": "3b0d7bec-dd29-4fbf-f069-18ddb3fcd4f9"
      },
      "outputs": [
        {
          "name": "stdout",
          "output_type": "stream",
          "text": [
            "A\n",
            "p\n",
            "p\n",
            "l\n",
            "e\n",
            ",\n",
            "O\n",
            "r\n",
            "a\n",
            "n\n",
            "g\n",
            "e\n",
            ",\n",
            "G\n",
            "r\n",
            "a\n",
            "p\n",
            "e\n",
            "s\n",
            ",\n",
            "M\n",
            "a\n",
            "n\n",
            "g\n",
            "o\n"
          ]
        }
      ],
      "source": [
        "for x in str1:\n",
        "    print(x)"
      ]
    },
    {
      "cell_type": "code",
      "execution_count": null,
      "id": "9a0ee2de",
      "metadata": {
        "id": "9a0ee2de",
        "outputId": "b9e30d2b-33a2-4b18-b0ea-dacb4b7c337f"
      },
      "outputs": [
        {
          "data": {
            "text/plain": [
              "['Apple', 'Orange', 'Grapes', 'Mango']"
            ]
          },
          "execution_count": 27,
          "metadata": {},
          "output_type": "execute_result"
        }
      ],
      "source": [
        "str1.split(',')"
      ]
    },
    {
      "cell_type": "code",
      "execution_count": null,
      "id": "040a77e5",
      "metadata": {
        "id": "040a77e5"
      },
      "outputs": [],
      "source": [
        "str1 = 'Apple|Orange|Grapes|Mango'"
      ]
    },
    {
      "cell_type": "code",
      "execution_count": null,
      "id": "16845559",
      "metadata": {
        "id": "16845559",
        "outputId": "982f154b-6230-40ee-ef55-9d55bad710cc"
      },
      "outputs": [
        {
          "data": {
            "text/plain": [
              "['Apple', 'Orange', 'Grapes', 'Mango']"
            ]
          },
          "execution_count": 32,
          "metadata": {},
          "output_type": "execute_result"
        }
      ],
      "source": [
        "str1.split('|')"
      ]
    },
    {
      "cell_type": "code",
      "execution_count": null,
      "id": "3320cb98",
      "metadata": {
        "id": "3320cb98"
      },
      "outputs": [],
      "source": [
        "str1 = 'Apple,Orange|Grapes|Mango'"
      ]
    },
    {
      "cell_type": "code",
      "execution_count": null,
      "id": "3a4a0acd",
      "metadata": {
        "id": "3a4a0acd",
        "outputId": "89fd5147-2649-4ded-a04a-92047d43b224"
      },
      "outputs": [
        {
          "data": {
            "text/plain": [
              "['Apple,Orange', 'Grapes', 'Mango']"
            ]
          },
          "execution_count": 34,
          "metadata": {},
          "output_type": "execute_result"
        }
      ],
      "source": [
        "str1.split('|')"
      ]
    },
    {
      "cell_type": "code",
      "execution_count": null,
      "id": "cb01ef74",
      "metadata": {
        "id": "cb01ef74"
      },
      "outputs": [],
      "source": [
        "x = \"This is an example of a long text. I want to demonstrate splitting of a string\""
      ]
    },
    {
      "cell_type": "code",
      "execution_count": null,
      "id": "cd3d7538",
      "metadata": {
        "id": "cd3d7538"
      },
      "outputs": [],
      "source": [
        "#x = \"This is an example of a long text\""
      ]
    },
    {
      "cell_type": "code",
      "execution_count": null,
      "id": "eb0af45a",
      "metadata": {
        "id": "eb0af45a",
        "outputId": "f6903c9a-f9ef-4b95-9d83-cd9a459f7f05"
      },
      "outputs": [
        {
          "data": {
            "text/plain": [
              "['', '1', '2', '3', '4', '5']"
            ]
          },
          "execution_count": 53,
          "metadata": {},
          "output_type": "execute_result"
        }
      ],
      "source": [
        "x.split(' ')"
      ]
    },
    {
      "cell_type": "code",
      "execution_count": null,
      "id": "3459c830",
      "metadata": {
        "id": "3459c830"
      },
      "outputs": [],
      "source": [
        "lst = [3,4,2,1]"
      ]
    },
    {
      "cell_type": "code",
      "execution_count": null,
      "id": "2fbe9610",
      "metadata": {
        "id": "2fbe9610"
      },
      "outputs": [],
      "source": [
        "lst.sort()"
      ]
    },
    {
      "cell_type": "code",
      "execution_count": null,
      "id": "2f907a2d",
      "metadata": {
        "id": "2f907a2d",
        "outputId": "5709cadd-bcdc-409b-cb54-beb9ebaddc96"
      },
      "outputs": [
        {
          "data": {
            "text/plain": [
              "[1, 2, 3, 4]"
            ]
          },
          "execution_count": 42,
          "metadata": {},
          "output_type": "execute_result"
        }
      ],
      "source": [
        "lst"
      ]
    },
    {
      "cell_type": "markdown",
      "id": "c9088f85",
      "metadata": {
        "id": "c9088f85"
      },
      "source": [
        "### for loop - Iterate over a sequence"
      ]
    },
    {
      "cell_type": "code",
      "execution_count": null,
      "id": "91fa7258",
      "metadata": {
        "id": "91fa7258"
      },
      "outputs": [],
      "source": [
        "lst = [19,87,65,48,88]"
      ]
    },
    {
      "cell_type": "code",
      "execution_count": null,
      "id": "fda7a4d6",
      "metadata": {
        "id": "fda7a4d6",
        "outputId": "737ac3fb-3646-445a-a309-49c6b3e98428"
      },
      "outputs": [
        {
          "name": "stdout",
          "output_type": "stream",
          "text": [
            "19\n",
            "Hi\n",
            "87\n",
            "Hi\n",
            "65\n",
            "Hi\n",
            "48\n",
            "Hi\n",
            "88\n",
            "Hi\n",
            "Hello\n"
          ]
        }
      ],
      "source": [
        "for elem in lst:\n",
        "    print(elem)\n",
        "    print('Hi')\n",
        "print('Hello')"
      ]
    },
    {
      "cell_type": "code",
      "execution_count": null,
      "id": "52ffb768",
      "metadata": {
        "id": "52ffb768"
      },
      "outputs": [],
      "source": [
        "str1 = 'Python3.0'"
      ]
    },
    {
      "cell_type": "code",
      "execution_count": null,
      "id": "6e47716f",
      "metadata": {
        "id": "6e47716f",
        "outputId": "5a1f34a1-e4cb-42ef-cb34-8a90ff4e5921"
      },
      "outputs": [
        {
          "name": "stdout",
          "output_type": "stream",
          "text": [
            "P\n",
            "y\n",
            "t\n",
            "h\n",
            "o\n",
            "n\n",
            "3\n",
            ".\n",
            "0\n"
          ]
        }
      ],
      "source": [
        "for c in str1:\n",
        "    print(c)"
      ]
    },
    {
      "cell_type": "code",
      "execution_count": null,
      "id": "375ee6db",
      "metadata": {
        "id": "375ee6db"
      },
      "outputs": [],
      "source": [
        "tup = (45,67,88)"
      ]
    },
    {
      "cell_type": "code",
      "execution_count": null,
      "id": "fcf1da2b",
      "metadata": {
        "id": "fcf1da2b",
        "outputId": "5b79671b-626f-44fe-e33e-ecdcece2b231"
      },
      "outputs": [
        {
          "name": "stdout",
          "output_type": "stream",
          "text": [
            "45\n",
            "67\n",
            "88\n"
          ]
        }
      ],
      "source": [
        "for x in tup:\n",
        "    print(x)"
      ]
    },
    {
      "cell_type": "code",
      "execution_count": null,
      "id": "fdba4ae1",
      "metadata": {
        "id": "fdba4ae1"
      },
      "outputs": [],
      "source": [
        "lst = [19,87,65,48,88]"
      ]
    },
    {
      "cell_type": "code",
      "execution_count": null,
      "id": "7e23e774",
      "metadata": {
        "id": "7e23e774",
        "outputId": "84daddfc-f689-4232-fa39-12a3bfe67ea2"
      },
      "outputs": [
        {
          "name": "stdout",
          "output_type": "stream",
          "text": [
            "*\n",
            "*\n",
            "*\n",
            "*\n",
            "*\n"
          ]
        }
      ],
      "source": [
        "for x in lst:\n",
        "    print('*')"
      ]
    },
    {
      "cell_type": "markdown",
      "id": "bd416cc9",
      "metadata": {
        "id": "bd416cc9"
      },
      "source": [
        "### List comprehension"
      ]
    },
    {
      "cell_type": "code",
      "execution_count": null,
      "id": "aa1002bc",
      "metadata": {
        "id": "aa1002bc"
      },
      "outputs": [],
      "source": [
        "lst = [1,2,3,4,5,6,7]"
      ]
    },
    {
      "cell_type": "code",
      "execution_count": null,
      "id": "2d6d22e6",
      "metadata": {
        "id": "2d6d22e6"
      },
      "outputs": [],
      "source": [
        "new_lst = []\n",
        "for x in lst:\n",
        "    new_lst.append(x**2)"
      ]
    },
    {
      "cell_type": "code",
      "execution_count": null,
      "id": "c4739bb6",
      "metadata": {
        "id": "c4739bb6",
        "outputId": "02b3422d-7c8f-4926-9298-401f60a4169d"
      },
      "outputs": [
        {
          "data": {
            "text/plain": [
              "[1, 4, 9, 16, 25, 36, 49]"
            ]
          },
          "execution_count": 72,
          "metadata": {},
          "output_type": "execute_result"
        }
      ],
      "source": [
        "new_lst"
      ]
    },
    {
      "cell_type": "code",
      "execution_count": null,
      "id": "001c664b",
      "metadata": {
        "id": "001c664b"
      },
      "outputs": [],
      "source": [
        "sqr_lst = [x**2 for x in lst]"
      ]
    },
    {
      "cell_type": "code",
      "execution_count": null,
      "id": "56195488",
      "metadata": {
        "id": "56195488",
        "outputId": "d3591ee3-c0d5-478c-dae6-aba5c1642e54"
      },
      "outputs": [
        {
          "data": {
            "text/plain": [
              "[1, 4, 9, 16, 25, 36, 49]"
            ]
          },
          "execution_count": 74,
          "metadata": {},
          "output_type": "execute_result"
        }
      ],
      "source": [
        "sqr_lst"
      ]
    },
    {
      "cell_type": "code",
      "execution_count": null,
      "id": "138c025e",
      "metadata": {
        "id": "138c025e"
      },
      "outputs": [],
      "source": [
        "sqr_lst = [x**2 for x in lst if (x%2 == 0) ]"
      ]
    },
    {
      "cell_type": "code",
      "execution_count": null,
      "id": "b64adb71",
      "metadata": {
        "id": "b64adb71",
        "outputId": "00b3b1e2-84b1-4fdf-9699-10ed596b7cb3"
      },
      "outputs": [
        {
          "data": {
            "text/plain": [
              "[4, 16, 36]"
            ]
          },
          "execution_count": 83,
          "metadata": {},
          "output_type": "execute_result"
        }
      ],
      "source": [
        "sqr_lst"
      ]
    },
    {
      "cell_type": "code",
      "execution_count": null,
      "id": "005634a9",
      "metadata": {
        "id": "005634a9"
      },
      "outputs": [],
      "source": [
        "lst = [1,2,3,4,5,6,7]"
      ]
    },
    {
      "cell_type": "code",
      "execution_count": null,
      "id": "21d11ba3",
      "metadata": {
        "id": "21d11ba3"
      },
      "outputs": [],
      "source": [
        "new_lst = [x*100 for x in lst ]"
      ]
    },
    {
      "cell_type": "code",
      "execution_count": null,
      "id": "ca007491",
      "metadata": {
        "id": "ca007491",
        "outputId": "8b25cc76-95d4-4786-e256-1b4a25ce1c08"
      },
      "outputs": [
        {
          "data": {
            "text/plain": [
              "[100, 200, 300, 400, 500, 600, 700]"
            ]
          },
          "execution_count": 86,
          "metadata": {},
          "output_type": "execute_result"
        }
      ],
      "source": [
        "new_lst"
      ]
    },
    {
      "cell_type": "code",
      "execution_count": null,
      "id": "86039dd3",
      "metadata": {
        "id": "86039dd3"
      },
      "outputs": [],
      "source": []
    }
  ],
  "metadata": {
    "kernelspec": {
      "display_name": "Python 3",
      "language": "python",
      "name": "python3"
    },
    "language_info": {
      "codemirror_mode": {
        "name": "ipython",
        "version": 3
      },
      "file_extension": ".py",
      "mimetype": "text/x-python",
      "name": "python",
      "nbconvert_exporter": "python",
      "pygments_lexer": "ipython3",
      "version": "3.8.13"
    },
    "colab": {
      "provenance": [],
      "include_colab_link": true
    }
  },
  "nbformat": 4,
  "nbformat_minor": 5
}